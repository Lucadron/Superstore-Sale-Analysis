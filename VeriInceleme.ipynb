{
 "cells": [
  {
   "cell_type": "code",
   "execution_count": 2,
   "id": "1a047042-c1d9-465c-a442-7db684e44d63",
   "metadata": {
    "scrolled": true
   },
   "outputs": [
    {
     "name": "stdout",
     "output_type": "stream",
     "text": [
      "   Row ID        Order ID  Order Date   Ship Date       Ship Mode Customer ID  \\\n",
      "0       1  CA-2016-152156  2016-11-08  2016-11-11    Second Class    CG-12520   \n",
      "1       2  CA-2016-152156  2016-11-08  2016-11-11    Second Class    CG-12520   \n",
      "2       3  CA-2016-138688  2016-06-12  2016-06-16    Second Class    DV-13045   \n",
      "3       4  US-2015-108966  2015-10-11  2015-10-18  Standard Class    SO-20335   \n",
      "4       5  US-2015-108966  2015-10-11  2015-10-18  Standard Class    SO-20335   \n",
      "\n",
      "     Customer Name    Segment        Country             City  ...  \\\n",
      "0      Claire Gute   Consumer  United States        Henderson  ...   \n",
      "1      Claire Gute   Consumer  United States        Henderson  ...   \n",
      "2  Darrin Van Huff  Corporate  United States      Los Angeles  ...   \n",
      "3   Sean O'Donnell   Consumer  United States  Fort Lauderdale  ...   \n",
      "4   Sean O'Donnell   Consumer  United States  Fort Lauderdale  ...   \n",
      "\n",
      "          Category  Sub-Category  \\\n",
      "0        Furniture     Bookcases   \n",
      "1        Furniture        Chairs   \n",
      "2  Office Supplies        Labels   \n",
      "3        Furniture        Tables   \n",
      "4  Office Supplies       Storage   \n",
      "\n",
      "                                        Product Name     Sales Quantity  \\\n",
      "0                  Bush Somerset Collection Bookcase  261.9600        2   \n",
      "1  Hon Deluxe Fabric Upholstered Stacking Chairs,...  731.9400        3   \n",
      "2  Self-Adhesive Address Labels for Typewriters b...   14.6200        2   \n",
      "3      Bretford CR4500 Series Slim Rectangular Table  957.5775        5   \n",
      "4                     Eldon Fold 'N Roll Cart System   22.3680        2   \n",
      "\n",
      "  Discount    Profit  Order_Year  Order_Month  Profit_Margin  \n",
      "0     0.00   41.9136        2016           11         0.1600  \n",
      "1     0.00  219.5820        2016           11         0.3000  \n",
      "2     0.00    6.8714        2016            6         0.4700  \n",
      "3     0.45 -383.0310        2015           10        -0.4000  \n",
      "4     0.20    2.5164        2015           10         0.1125  \n",
      "\n",
      "[5 rows x 24 columns]\n",
      "<class 'pandas.core.frame.DataFrame'>\n",
      "RangeIndex: 9994 entries, 0 to 9993\n",
      "Data columns (total 24 columns):\n",
      " #   Column         Non-Null Count  Dtype  \n",
      "---  ------         --------------  -----  \n",
      " 0   Row ID         9994 non-null   int64  \n",
      " 1   Order ID       9994 non-null   object \n",
      " 2   Order Date     9994 non-null   object \n",
      " 3   Ship Date      9994 non-null   object \n",
      " 4   Ship Mode      9994 non-null   object \n",
      " 5   Customer ID    9994 non-null   object \n",
      " 6   Customer Name  9994 non-null   object \n",
      " 7   Segment        9994 non-null   object \n",
      " 8   Country        9994 non-null   object \n",
      " 9   City           9994 non-null   object \n",
      " 10  State          9994 non-null   object \n",
      " 11  Postal Code    9994 non-null   int64  \n",
      " 12  Region         9994 non-null   object \n",
      " 13  Product ID     9994 non-null   object \n",
      " 14  Category       9994 non-null   object \n",
      " 15  Sub-Category   9994 non-null   object \n",
      " 16  Product Name   9994 non-null   object \n",
      " 17  Sales          9994 non-null   float64\n",
      " 18  Quantity       9994 non-null   int64  \n",
      " 19  Discount       9994 non-null   float64\n",
      " 20  Profit         9994 non-null   float64\n",
      " 21  Order_Year     9994 non-null   int64  \n",
      " 22  Order_Month    9994 non-null   int64  \n",
      " 23  Profit_Margin  9994 non-null   float64\n",
      "dtypes: float64(4), int64(5), object(15)\n",
      "memory usage: 1.8+ MB\n",
      "None\n",
      "Row ID           0\n",
      "Order ID         0\n",
      "Order Date       0\n",
      "Ship Date        0\n",
      "Ship Mode        0\n",
      "Customer ID      0\n",
      "Customer Name    0\n",
      "Segment          0\n",
      "Country          0\n",
      "City             0\n",
      "State            0\n",
      "Postal Code      0\n",
      "Region           0\n",
      "Product ID       0\n",
      "Category         0\n",
      "Sub-Category     0\n",
      "Product Name     0\n",
      "Sales            0\n",
      "Quantity         0\n",
      "Discount         0\n",
      "Profit           0\n",
      "Order_Year       0\n",
      "Order_Month      0\n",
      "Profit_Margin    0\n",
      "dtype: int64\n"
     ]
    }
   ],
   "source": [
    "#Adım 2 Veriyi Anlama ve İnceleme\n",
    "import pandas as pd\n",
    "\n",
    "# CSV’yi oku (şu an düzgün)\n",
    "df = pd.read_csv(\"C:/Users/Administrator/Desktop/Final Case 2/Superstore_clean_ready.csv\")\n",
    "\n",
    "# İlk 5 satıra bak\n",
    "print(df.head())\n",
    "\n",
    "# Sütun bilgileri ve veri tipleri\n",
    "print(df.info())\n",
    "\n",
    "# Eksik veri kontrolü\n",
    "print(df.isnull().sum())\n"
   ]
  },
  {
   "cell_type": "code",
   "execution_count": 3,
   "id": "9c1f60ef-bdb8-48cc-8c69-1c198f03af6f",
   "metadata": {},
   "outputs": [
    {
     "name": "stdout",
     "output_type": "stream",
     "text": [
      "  Order Date  Ship Date  Ship Duration\n",
      "0 2016-11-08 2016-11-11              3\n",
      "1 2016-11-08 2016-11-11              3\n",
      "2 2016-06-12 2016-06-16              4\n",
      "3 2015-10-11 2015-10-18              7\n",
      "4 2015-10-11 2015-10-18              7\n"
     ]
    }
   ],
   "source": [
    "#Adım 3 Veri dönüşümleri\n",
    "# Tarihleri dönüştür\n",
    "df['Order Date'] = pd.to_datetime(df['Order Date'], errors='coerce')\n",
    "df['Ship Date'] = pd.to_datetime(df['Ship Date'], errors='coerce')\n",
    "\n",
    "# Sayısal dönüşüm\n",
    "df['Sales'] = pd.to_numeric(df['Sales'], errors='coerce')\n",
    "df['Profit'] = pd.to_numeric(df['Profit'], errors='coerce')\n",
    "df['Discount'] = pd.to_numeric(df['Discount'], errors='coerce')\n",
    "\n",
    "# Yeni kolon: kargo süresi\n",
    "df['Ship Duration'] = (df['Ship Date'] - df['Order Date']).dt.days\n",
    "\n",
    "# Gözden geçirme\n",
    "print(df[['Order Date', 'Ship Date', 'Ship Duration']].head())\n"
   ]
  },
  {
   "cell_type": "code",
   "execution_count": 4,
   "id": "324dccfb-ed6d-4191-b186-aadd3314c369",
   "metadata": {},
   "outputs": [],
   "source": [
    "# Dönüştürülmüş veriyi CSV olarak kaydetme (Power BI için)\n",
    "df.to_csv(\"C:/Users/Administrator/Desktop/Final Case 2/Superstore.csv\", index=False)\n"
   ]
  },
  {
   "cell_type": "code",
   "execution_count": null,
   "id": "82a8fff2-f708-4af8-b566-69634574bdc6",
   "metadata": {},
   "outputs": [],
   "source": []
  }
 ],
 "metadata": {
  "kernelspec": {
   "display_name": "Python 3 (ipykernel)",
   "language": "python",
   "name": "python3"
  },
  "language_info": {
   "codemirror_mode": {
    "name": "ipython",
    "version": 3
   },
   "file_extension": ".py",
   "mimetype": "text/x-python",
   "name": "python",
   "nbconvert_exporter": "python",
   "pygments_lexer": "ipython3",
   "version": "3.13.2"
  }
 },
 "nbformat": 4,
 "nbformat_minor": 5
}
