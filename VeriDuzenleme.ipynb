{
 "cells": [
  {
   "cell_type": "code",
   "execution_count": null,
   "id": "ef708a67-33bd-497d-a851-979db655b40c",
   "metadata": {},
   "outputs": [
    {
     "name": "stdout",
     "output_type": "stream",
     "text": [
      "✅ Temizleme tamamlandı. Yeni dosya: Superstore_clean_ready.csv\n"
     ]
    }
   ],
   "source": [
    "import pandas as pd\n",
    "\n",
    "# 1. Dosyayı doğru encoding ile oku\n",
    "df = pd.read_csv(\n",
    "    \"C:/Users/Administrator/Desktop/Final Case 2/Superstore_dirty.csv\",\n",
    "    sep=\",\",               # sütunları ayıran virgül\n",
    "    decimal=\",\",           # ondalık virgül\n",
    "    encoding=\"ISO-8859-9\", # Türkçe karakter desteği\n",
    "    on_bad_lines='skip'    # hatalı satırları atla\n",
    ")\n",
    "\n",
    "# 2. Tip dönüşümleri\n",
    "df['Order Date'] = pd.to_datetime(df['Order Date'], errors='coerce')\n",
    "df['Ship Date'] = pd.to_datetime(df['Ship Date'], errors='coerce')\n",
    "df['Sales'] = pd.to_numeric(df['Sales'], errors='coerce')\n",
    "df['Profit'] = pd.to_numeric(df['Profit'], errors='coerce')\n",
    "df['Discount'] = pd.to_numeric(df['Discount'], errors='coerce')\n",
    "df['Quantity'] = pd.to_numeric(df['Quantity'], errors='coerce')\n",
    "\n",
    "# 3. Eksik ve bozuk verileri temizle\n",
    "df_cleaned = df.dropna(subset=[\n",
    "    'Order ID', 'Order Date', 'Ship Date',\n",
    "    'Sales', 'Profit', 'Discount', 'Quantity'\n",
    "])\n",
    "\n",
    "# 4. Yeni kolonlar oluştur\n",
    "df_cleaned['Order_Year'] = df_cleaned['Order Date'].dt.year\n",
    "df_cleaned['Order_Month'] = df_cleaned['Order Date'].dt.month\n",
    "df_cleaned['Profit_Margin'] = df_cleaned['Profit'] / (df_cleaned['Sales'] + 1e-5)\n",
    "\n",
    "# 5. Temiz CSV dosyasını kaydet\n",
    "df_cleaned.to_csv(\n",
    "    \"C:/Users/Administrator/Desktop/Final Case 2/Superstore_clean_ready.csv\",\n",
    "    index=False,\n",
    "    sep=\",\",\n",
    "    decimal=\".\",           # artık ondalık ayıracı nokta\n",
    "    encoding=\"utf-8\"\n",
    ")\n",
    "\n",
    "print(\"✅ Temizleme tamamlandı. Yeni dosya: Superstore_clean_ready.csv\")\n"
   ]
  },
  {
   "cell_type": "code",
   "execution_count": null,
   "id": "0f8159b1-af0f-4fad-af05-e63042ca9271",
   "metadata": {},
   "outputs": [],
   "source": []
  }
 ],
 "metadata": {
  "kernelspec": {
   "display_name": "Python 3 (ipykernel)",
   "language": "python",
   "name": "python3"
  },
  "language_info": {
   "codemirror_mode": {
    "name": "ipython",
    "version": 3
   },
   "file_extension": ".py",
   "mimetype": "text/x-python",
   "name": "python",
   "nbconvert_exporter": "python",
   "pygments_lexer": "ipython3",
   "version": "3.13.2"
  }
 },
 "nbformat": 4,
 "nbformat_minor": 5
}
